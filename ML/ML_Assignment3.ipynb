{
  "cells": [
    {
      "cell_type": "markdown",
      "metadata": {
        "id": "view-in-github",
        "colab_type": "text"
      },
      "source": [
        "<a href=\"https://colab.research.google.com/github/riyapalesha/SPPU_LP3_Lab/blob/main/ML/ML_Assignment3.ipynb\" target=\"_parent\"><img src=\"https://colab.research.google.com/assets/colab-badge.svg\" alt=\"Open In Colab\"/></a>"
      ]
    },
    {
      "cell_type": "markdown",
      "id": "30399c36",
      "metadata": {
        "id": "30399c36"
      },
      "source": [
        "Given a bank customer, build a neural network-based classifier that can determine whether they will leave or not in the next 6 months. Dataset Description: The case study is from an open-source dataset from Kaggle. The dataset contains 10,000 sample points with 14 distinct features such as CustomerId, CreditScore, Geography, Gender, Age, Tenure, Balance, etc. Perform following steps: 1. Read the dataset. 2. Distinguish the feature and target set and divide the data set into training and test sets. 3. Normalize the train and test data. 4. Initialize and build the model. Identify the points of improvement and implement the same. 5. Print the accuracy score and confusion matrix."
      ]
    },
    {
      "cell_type": "code",
      "execution_count": null,
      "id": "da82f1d9",
      "metadata": {
        "id": "da82f1d9"
      },
      "outputs": [],
      "source": [
        "import pandas as pd\n",
        "import numpy as np\n",
        "import matplotlib.pyplot as plt\n",
        "import seaborn as sns"
      ]
    },
    {
      "cell_type": "code",
      "execution_count": null,
      "id": "b9941bfe",
      "metadata": {
        "id": "b9941bfe"
      },
      "outputs": [],
      "source": [
        "data=pd.read_csv('./datasets/Churn_Modelling.csv')"
      ]
    },
    {
      "cell_type": "code",
      "execution_count": null,
      "id": "2d7a0253",
      "metadata": {
        "id": "2d7a0253",
        "outputId": "5dab3309-16cf-4b87-da7c-9a9a77820517"
      },
      "outputs": [
        {
          "data": {
            "text/html": [
              "<div>\n",
              "<style scoped>\n",
              "    .dataframe tbody tr th:only-of-type {\n",
              "        vertical-align: middle;\n",
              "    }\n",
              "\n",
              "    .dataframe tbody tr th {\n",
              "        vertical-align: top;\n",
              "    }\n",
              "\n",
              "    .dataframe thead th {\n",
              "        text-align: right;\n",
              "    }\n",
              "</style>\n",
              "<table border=\"1\" class=\"dataframe\">\n",
              "  <thead>\n",
              "    <tr style=\"text-align: right;\">\n",
              "      <th></th>\n",
              "      <th>RowNumber</th>\n",
              "      <th>CustomerId</th>\n",
              "      <th>Surname</th>\n",
              "      <th>CreditScore</th>\n",
              "      <th>Geography</th>\n",
              "      <th>Gender</th>\n",
              "      <th>Age</th>\n",
              "      <th>Tenure</th>\n",
              "      <th>Balance</th>\n",
              "      <th>NumOfProducts</th>\n",
              "      <th>HasCrCard</th>\n",
              "      <th>IsActiveMember</th>\n",
              "      <th>EstimatedSalary</th>\n",
              "      <th>Exited</th>\n",
              "    </tr>\n",
              "  </thead>\n",
              "  <tbody>\n",
              "    <tr>\n",
              "      <th>0</th>\n",
              "      <td>1</td>\n",
              "      <td>15634602</td>\n",
              "      <td>Hargrave</td>\n",
              "      <td>619</td>\n",
              "      <td>France</td>\n",
              "      <td>Female</td>\n",
              "      <td>42</td>\n",
              "      <td>2</td>\n",
              "      <td>0.00</td>\n",
              "      <td>1</td>\n",
              "      <td>1</td>\n",
              "      <td>1</td>\n",
              "      <td>101348.88</td>\n",
              "      <td>1</td>\n",
              "    </tr>\n",
              "    <tr>\n",
              "      <th>1</th>\n",
              "      <td>2</td>\n",
              "      <td>15647311</td>\n",
              "      <td>Hill</td>\n",
              "      <td>608</td>\n",
              "      <td>Spain</td>\n",
              "      <td>Female</td>\n",
              "      <td>41</td>\n",
              "      <td>1</td>\n",
              "      <td>83807.86</td>\n",
              "      <td>1</td>\n",
              "      <td>0</td>\n",
              "      <td>1</td>\n",
              "      <td>112542.58</td>\n",
              "      <td>0</td>\n",
              "    </tr>\n",
              "    <tr>\n",
              "      <th>2</th>\n",
              "      <td>3</td>\n",
              "      <td>15619304</td>\n",
              "      <td>Onio</td>\n",
              "      <td>502</td>\n",
              "      <td>France</td>\n",
              "      <td>Female</td>\n",
              "      <td>42</td>\n",
              "      <td>8</td>\n",
              "      <td>159660.80</td>\n",
              "      <td>3</td>\n",
              "      <td>1</td>\n",
              "      <td>0</td>\n",
              "      <td>113931.57</td>\n",
              "      <td>1</td>\n",
              "    </tr>\n",
              "    <tr>\n",
              "      <th>3</th>\n",
              "      <td>4</td>\n",
              "      <td>15701354</td>\n",
              "      <td>Boni</td>\n",
              "      <td>699</td>\n",
              "      <td>France</td>\n",
              "      <td>Female</td>\n",
              "      <td>39</td>\n",
              "      <td>1</td>\n",
              "      <td>0.00</td>\n",
              "      <td>2</td>\n",
              "      <td>0</td>\n",
              "      <td>0</td>\n",
              "      <td>93826.63</td>\n",
              "      <td>0</td>\n",
              "    </tr>\n",
              "    <tr>\n",
              "      <th>4</th>\n",
              "      <td>5</td>\n",
              "      <td>15737888</td>\n",
              "      <td>Mitchell</td>\n",
              "      <td>850</td>\n",
              "      <td>Spain</td>\n",
              "      <td>Female</td>\n",
              "      <td>43</td>\n",
              "      <td>2</td>\n",
              "      <td>125510.82</td>\n",
              "      <td>1</td>\n",
              "      <td>1</td>\n",
              "      <td>1</td>\n",
              "      <td>79084.10</td>\n",
              "      <td>0</td>\n",
              "    </tr>\n",
              "  </tbody>\n",
              "</table>\n",
              "</div>"
            ],
            "text/plain": [
              "   RowNumber  CustomerId   Surname  CreditScore Geography  Gender  Age  \\\n",
              "0          1    15634602  Hargrave          619    France  Female   42   \n",
              "1          2    15647311      Hill          608     Spain  Female   41   \n",
              "2          3    15619304      Onio          502    France  Female   42   \n",
              "3          4    15701354      Boni          699    France  Female   39   \n",
              "4          5    15737888  Mitchell          850     Spain  Female   43   \n",
              "\n",
              "   Tenure    Balance  NumOfProducts  HasCrCard  IsActiveMember  \\\n",
              "0       2       0.00              1          1               1   \n",
              "1       1   83807.86              1          0               1   \n",
              "2       8  159660.80              3          1               0   \n",
              "3       1       0.00              2          0               0   \n",
              "4       2  125510.82              1          1               1   \n",
              "\n",
              "   EstimatedSalary  Exited  \n",
              "0        101348.88       1  \n",
              "1        112542.58       0  \n",
              "2        113931.57       1  \n",
              "3         93826.63       0  \n",
              "4         79084.10       0  "
            ]
          },
          "execution_count": 25,
          "metadata": {},
          "output_type": "execute_result"
        }
      ],
      "source": [
        "df=data.copy()\n",
        "df.head()"
      ]
    },
    {
      "cell_type": "code",
      "execution_count": null,
      "id": "5c620c1a",
      "metadata": {
        "id": "5c620c1a",
        "outputId": "69b0e363-a69d-458b-cc94-092123fe6d5f"
      },
      "outputs": [
        {
          "data": {
            "text/plain": [
              "(10000, 14)"
            ]
          },
          "execution_count": 26,
          "metadata": {},
          "output_type": "execute_result"
        }
      ],
      "source": [
        "df.shape"
      ]
    },
    {
      "cell_type": "code",
      "execution_count": null,
      "id": "1dd06877",
      "metadata": {
        "id": "1dd06877",
        "outputId": "bd1ddc9c-f305-440b-e790-cc96f777a1a5"
      },
      "outputs": [
        {
          "data": {
            "text/html": [
              "<div>\n",
              "<style scoped>\n",
              "    .dataframe tbody tr th:only-of-type {\n",
              "        vertical-align: middle;\n",
              "    }\n",
              "\n",
              "    .dataframe tbody tr th {\n",
              "        vertical-align: top;\n",
              "    }\n",
              "\n",
              "    .dataframe thead th {\n",
              "        text-align: right;\n",
              "    }\n",
              "</style>\n",
              "<table border=\"1\" class=\"dataframe\">\n",
              "  <thead>\n",
              "    <tr style=\"text-align: right;\">\n",
              "      <th></th>\n",
              "      <th>RowNumber</th>\n",
              "      <th>CustomerId</th>\n",
              "      <th>CreditScore</th>\n",
              "      <th>Age</th>\n",
              "      <th>Tenure</th>\n",
              "      <th>Balance</th>\n",
              "      <th>NumOfProducts</th>\n",
              "      <th>HasCrCard</th>\n",
              "      <th>IsActiveMember</th>\n",
              "      <th>EstimatedSalary</th>\n",
              "      <th>Exited</th>\n",
              "    </tr>\n",
              "  </thead>\n",
              "  <tbody>\n",
              "    <tr>\n",
              "      <th>count</th>\n",
              "      <td>10000.00000</td>\n",
              "      <td>1.000000e+04</td>\n",
              "      <td>10000.000000</td>\n",
              "      <td>10000.000000</td>\n",
              "      <td>10000.000000</td>\n",
              "      <td>10000.000000</td>\n",
              "      <td>10000.000000</td>\n",
              "      <td>10000.00000</td>\n",
              "      <td>10000.000000</td>\n",
              "      <td>10000.000000</td>\n",
              "      <td>10000.000000</td>\n",
              "    </tr>\n",
              "    <tr>\n",
              "      <th>mean</th>\n",
              "      <td>5000.50000</td>\n",
              "      <td>1.569094e+07</td>\n",
              "      <td>650.528800</td>\n",
              "      <td>38.921800</td>\n",
              "      <td>5.012800</td>\n",
              "      <td>76485.889288</td>\n",
              "      <td>1.530200</td>\n",
              "      <td>0.70550</td>\n",
              "      <td>0.515100</td>\n",
              "      <td>100090.239881</td>\n",
              "      <td>0.203700</td>\n",
              "    </tr>\n",
              "    <tr>\n",
              "      <th>std</th>\n",
              "      <td>2886.89568</td>\n",
              "      <td>7.193619e+04</td>\n",
              "      <td>96.653299</td>\n",
              "      <td>10.487806</td>\n",
              "      <td>2.892174</td>\n",
              "      <td>62397.405202</td>\n",
              "      <td>0.581654</td>\n",
              "      <td>0.45584</td>\n",
              "      <td>0.499797</td>\n",
              "      <td>57510.492818</td>\n",
              "      <td>0.402769</td>\n",
              "    </tr>\n",
              "    <tr>\n",
              "      <th>min</th>\n",
              "      <td>1.00000</td>\n",
              "      <td>1.556570e+07</td>\n",
              "      <td>350.000000</td>\n",
              "      <td>18.000000</td>\n",
              "      <td>0.000000</td>\n",
              "      <td>0.000000</td>\n",
              "      <td>1.000000</td>\n",
              "      <td>0.00000</td>\n",
              "      <td>0.000000</td>\n",
              "      <td>11.580000</td>\n",
              "      <td>0.000000</td>\n",
              "    </tr>\n",
              "    <tr>\n",
              "      <th>25%</th>\n",
              "      <td>2500.75000</td>\n",
              "      <td>1.562853e+07</td>\n",
              "      <td>584.000000</td>\n",
              "      <td>32.000000</td>\n",
              "      <td>3.000000</td>\n",
              "      <td>0.000000</td>\n",
              "      <td>1.000000</td>\n",
              "      <td>0.00000</td>\n",
              "      <td>0.000000</td>\n",
              "      <td>51002.110000</td>\n",
              "      <td>0.000000</td>\n",
              "    </tr>\n",
              "    <tr>\n",
              "      <th>50%</th>\n",
              "      <td>5000.50000</td>\n",
              "      <td>1.569074e+07</td>\n",
              "      <td>652.000000</td>\n",
              "      <td>37.000000</td>\n",
              "      <td>5.000000</td>\n",
              "      <td>97198.540000</td>\n",
              "      <td>1.000000</td>\n",
              "      <td>1.00000</td>\n",
              "      <td>1.000000</td>\n",
              "      <td>100193.915000</td>\n",
              "      <td>0.000000</td>\n",
              "    </tr>\n",
              "    <tr>\n",
              "      <th>75%</th>\n",
              "      <td>7500.25000</td>\n",
              "      <td>1.575323e+07</td>\n",
              "      <td>718.000000</td>\n",
              "      <td>44.000000</td>\n",
              "      <td>7.000000</td>\n",
              "      <td>127644.240000</td>\n",
              "      <td>2.000000</td>\n",
              "      <td>1.00000</td>\n",
              "      <td>1.000000</td>\n",
              "      <td>149388.247500</td>\n",
              "      <td>0.000000</td>\n",
              "    </tr>\n",
              "    <tr>\n",
              "      <th>max</th>\n",
              "      <td>10000.00000</td>\n",
              "      <td>1.581569e+07</td>\n",
              "      <td>850.000000</td>\n",
              "      <td>92.000000</td>\n",
              "      <td>10.000000</td>\n",
              "      <td>250898.090000</td>\n",
              "      <td>4.000000</td>\n",
              "      <td>1.00000</td>\n",
              "      <td>1.000000</td>\n",
              "      <td>199992.480000</td>\n",
              "      <td>1.000000</td>\n",
              "    </tr>\n",
              "  </tbody>\n",
              "</table>\n",
              "</div>"
            ],
            "text/plain": [
              "         RowNumber    CustomerId   CreditScore           Age        Tenure  \\\n",
              "count  10000.00000  1.000000e+04  10000.000000  10000.000000  10000.000000   \n",
              "mean    5000.50000  1.569094e+07    650.528800     38.921800      5.012800   \n",
              "std     2886.89568  7.193619e+04     96.653299     10.487806      2.892174   \n",
              "min        1.00000  1.556570e+07    350.000000     18.000000      0.000000   \n",
              "25%     2500.75000  1.562853e+07    584.000000     32.000000      3.000000   \n",
              "50%     5000.50000  1.569074e+07    652.000000     37.000000      5.000000   \n",
              "75%     7500.25000  1.575323e+07    718.000000     44.000000      7.000000   \n",
              "max    10000.00000  1.581569e+07    850.000000     92.000000     10.000000   \n",
              "\n",
              "             Balance  NumOfProducts    HasCrCard  IsActiveMember  \\\n",
              "count   10000.000000   10000.000000  10000.00000    10000.000000   \n",
              "mean    76485.889288       1.530200      0.70550        0.515100   \n",
              "std     62397.405202       0.581654      0.45584        0.499797   \n",
              "min         0.000000       1.000000      0.00000        0.000000   \n",
              "25%         0.000000       1.000000      0.00000        0.000000   \n",
              "50%     97198.540000       1.000000      1.00000        1.000000   \n",
              "75%    127644.240000       2.000000      1.00000        1.000000   \n",
              "max    250898.090000       4.000000      1.00000        1.000000   \n",
              "\n",
              "       EstimatedSalary        Exited  \n",
              "count     10000.000000  10000.000000  \n",
              "mean     100090.239881      0.203700  \n",
              "std       57510.492818      0.402769  \n",
              "min          11.580000      0.000000  \n",
              "25%       51002.110000      0.000000  \n",
              "50%      100193.915000      0.000000  \n",
              "75%      149388.247500      0.000000  \n",
              "max      199992.480000      1.000000  "
            ]
          },
          "execution_count": 27,
          "metadata": {},
          "output_type": "execute_result"
        }
      ],
      "source": [
        "df.describe()"
      ]
    },
    {
      "cell_type": "code",
      "execution_count": null,
      "id": "349a88e7",
      "metadata": {
        "id": "349a88e7",
        "outputId": "a7c3d53b-e98c-4728-f6b7-998c5ce0927e"
      },
      "outputs": [
        {
          "data": {
            "text/plain": [
              "RowNumber          0\n",
              "CustomerId         0\n",
              "Surname            0\n",
              "CreditScore        0\n",
              "Geography          0\n",
              "Gender             0\n",
              "Age                0\n",
              "Tenure             0\n",
              "Balance            0\n",
              "NumOfProducts      0\n",
              "HasCrCard          0\n",
              "IsActiveMember     0\n",
              "EstimatedSalary    0\n",
              "Exited             0\n",
              "dtype: int64"
            ]
          },
          "execution_count": 28,
          "metadata": {},
          "output_type": "execute_result"
        }
      ],
      "source": [
        "df.isnull().sum()"
      ]
    },
    {
      "cell_type": "code",
      "execution_count": null,
      "id": "5fd30ccf",
      "metadata": {
        "id": "5fd30ccf",
        "outputId": "b7c831a8-e681-4c16-9c53-93ad07a8a76c"
      },
      "outputs": [
        {
          "data": {
            "text/plain": [
              "RowNumber            int64\n",
              "CustomerId           int64\n",
              "Surname             object\n",
              "CreditScore          int64\n",
              "Geography           object\n",
              "Gender              object\n",
              "Age                  int64\n",
              "Tenure               int64\n",
              "Balance            float64\n",
              "NumOfProducts        int64\n",
              "HasCrCard            int64\n",
              "IsActiveMember       int64\n",
              "EstimatedSalary    float64\n",
              "Exited               int64\n",
              "dtype: object"
            ]
          },
          "execution_count": 29,
          "metadata": {},
          "output_type": "execute_result"
        }
      ],
      "source": [
        "df.dtypes"
      ]
    },
    {
      "cell_type": "code",
      "execution_count": null,
      "id": "f5290838",
      "metadata": {
        "id": "f5290838",
        "outputId": "18c4fa0d-baf1-4e19-f5d4-7aeeedc8a59b"
      },
      "outputs": [
        {
          "data": {
            "text/html": [
              "<div>\n",
              "<style scoped>\n",
              "    .dataframe tbody tr th:only-of-type {\n",
              "        vertical-align: middle;\n",
              "    }\n",
              "\n",
              "    .dataframe tbody tr th {\n",
              "        vertical-align: top;\n",
              "    }\n",
              "\n",
              "    .dataframe thead th {\n",
              "        text-align: right;\n",
              "    }\n",
              "</style>\n",
              "<table border=\"1\" class=\"dataframe\">\n",
              "  <thead>\n",
              "    <tr style=\"text-align: right;\">\n",
              "      <th></th>\n",
              "      <th>RowNumber</th>\n",
              "      <th>CustomerId</th>\n",
              "      <th>Surname</th>\n",
              "      <th>CreditScore</th>\n",
              "      <th>Geography</th>\n",
              "      <th>Gender</th>\n",
              "      <th>Age</th>\n",
              "      <th>Tenure</th>\n",
              "      <th>Balance</th>\n",
              "      <th>NumOfProducts</th>\n",
              "      <th>HasCrCard</th>\n",
              "      <th>IsActiveMember</th>\n",
              "      <th>EstimatedSalary</th>\n",
              "      <th>Exited</th>\n",
              "    </tr>\n",
              "  </thead>\n",
              "  <tbody>\n",
              "    <tr>\n",
              "      <th>0</th>\n",
              "      <td>1</td>\n",
              "      <td>15634602</td>\n",
              "      <td>Hargrave</td>\n",
              "      <td>619</td>\n",
              "      <td>France</td>\n",
              "      <td>Female</td>\n",
              "      <td>42</td>\n",
              "      <td>2</td>\n",
              "      <td>0.0</td>\n",
              "      <td>1</td>\n",
              "      <td>1</td>\n",
              "      <td>1</td>\n",
              "      <td>101348.88</td>\n",
              "      <td>1</td>\n",
              "    </tr>\n",
              "  </tbody>\n",
              "</table>\n",
              "</div>"
            ],
            "text/plain": [
              "   RowNumber  CustomerId   Surname  CreditScore Geography  Gender  Age  \\\n",
              "0          1    15634602  Hargrave          619    France  Female   42   \n",
              "\n",
              "   Tenure  Balance  NumOfProducts  HasCrCard  IsActiveMember  EstimatedSalary  \\\n",
              "0       2      0.0              1          1               1        101348.88   \n",
              "\n",
              "   Exited  \n",
              "0       1  "
            ]
          },
          "execution_count": 30,
          "metadata": {},
          "output_type": "execute_result"
        }
      ],
      "source": [
        "df.head(1)"
      ]
    },
    {
      "cell_type": "code",
      "execution_count": null,
      "id": "a7216dff",
      "metadata": {
        "id": "a7216dff",
        "outputId": "adf588c6-e30c-4d63-9828-b00fc0645b61"
      },
      "outputs": [
        {
          "data": {
            "text/html": [
              "<div>\n",
              "<style scoped>\n",
              "    .dataframe tbody tr th:only-of-type {\n",
              "        vertical-align: middle;\n",
              "    }\n",
              "\n",
              "    .dataframe tbody tr th {\n",
              "        vertical-align: top;\n",
              "    }\n",
              "\n",
              "    .dataframe thead th {\n",
              "        text-align: right;\n",
              "    }\n",
              "</style>\n",
              "<table border=\"1\" class=\"dataframe\">\n",
              "  <thead>\n",
              "    <tr style=\"text-align: right;\">\n",
              "      <th></th>\n",
              "      <th>CreditScore</th>\n",
              "      <th>Geography</th>\n",
              "      <th>Gender</th>\n",
              "      <th>Age</th>\n",
              "      <th>Tenure</th>\n",
              "      <th>Balance</th>\n",
              "      <th>NumOfProducts</th>\n",
              "      <th>HasCrCard</th>\n",
              "      <th>IsActiveMember</th>\n",
              "      <th>EstimatedSalary</th>\n",
              "    </tr>\n",
              "  </thead>\n",
              "  <tbody>\n",
              "    <tr>\n",
              "      <th>0</th>\n",
              "      <td>619</td>\n",
              "      <td>France</td>\n",
              "      <td>Female</td>\n",
              "      <td>42</td>\n",
              "      <td>2</td>\n",
              "      <td>0.0</td>\n",
              "      <td>1</td>\n",
              "      <td>1</td>\n",
              "      <td>1</td>\n",
              "      <td>101348.88</td>\n",
              "    </tr>\n",
              "  </tbody>\n",
              "</table>\n",
              "</div>"
            ],
            "text/plain": [
              "   CreditScore Geography  Gender  Age  Tenure  Balance  NumOfProducts  \\\n",
              "0          619    France  Female   42       2      0.0              1   \n",
              "\n",
              "   HasCrCard  IsActiveMember  EstimatedSalary  \n",
              "0          1               1        101348.88  "
            ]
          },
          "execution_count": 31,
          "metadata": {},
          "output_type": "execute_result"
        }
      ],
      "source": [
        "x=df.iloc[:,3:13]\n",
        "x.head(1)"
      ]
    },
    {
      "cell_type": "code",
      "execution_count": null,
      "id": "45e2695f",
      "metadata": {
        "id": "45e2695f",
        "outputId": "b831ac8e-d150-4dc1-e6e6-906dbfed1137"
      },
      "outputs": [
        {
          "data": {
            "text/plain": [
              "0    1\n",
              "Name: Exited, dtype: int64"
            ]
          },
          "execution_count": 32,
          "metadata": {},
          "output_type": "execute_result"
        }
      ],
      "source": [
        "y=df[\"Exited\"]\n",
        "y.head(1)"
      ]
    },
    {
      "cell_type": "code",
      "execution_count": null,
      "id": "e417e7fd",
      "metadata": {
        "id": "e417e7fd",
        "outputId": "deef3e57-1764-4cea-fc91-8b4e6e6296e2"
      },
      "outputs": [
        {
          "data": {
            "text/plain": [
              "CreditScore          int64\n",
              "Geography           object\n",
              "Gender              object\n",
              "Age                  int64\n",
              "Tenure               int64\n",
              "Balance            float64\n",
              "NumOfProducts        int64\n",
              "HasCrCard            int64\n",
              "IsActiveMember       int64\n",
              "EstimatedSalary    float64\n",
              "dtype: object"
            ]
          },
          "execution_count": 33,
          "metadata": {},
          "output_type": "execute_result"
        }
      ],
      "source": [
        "x.dtypes"
      ]
    },
    {
      "cell_type": "code",
      "execution_count": null,
      "id": "5ba07f7e",
      "metadata": {
        "id": "5ba07f7e"
      },
      "outputs": [],
      "source": [
        "from sklearn.pipeline import Pipeline\n",
        "from sklearn.compose import ColumnTransformer\n",
        "from sklearn.preprocessing import OneHotEncoder, StandardScaler\n",
        "pipeline=Pipeline([\n",
        "    (\"Categorizer\",ColumnTransformer(\n",
        "        [\n",
        "            (\"GeographyLabelEncoder\",OneHotEncoder(categories=\"auto\",drop=\"first\"),[1]),\n",
        "            (\"GenderLabelEncoder\",OneHotEncoder(categories=\"auto\",drop=\"first\"),[2])\n",
        "        ],\n",
        "    n_jobs=1,remainder=\"passthrough\")),\n",
        "    (\"Normalizer\",StandardScaler())\n",
        "])"
      ]
    },
    {
      "cell_type": "code",
      "execution_count": null,
      "id": "1f476723",
      "metadata": {
        "id": "1f476723",
        "outputId": "09088663-be48-4e62-b4d1-cd7c6e10c1a8"
      },
      "outputs": [
        {
          "data": {
            "text/plain": [
              "array([[-0.57380915, -1.09598752, -0.57873591, ...,  0.64609167,\n",
              "         0.97024255,  0.02188649],\n",
              "       [ 1.74273971, -1.09598752, -0.57873591, ..., -1.54776799,\n",
              "         0.97024255,  0.21653375],\n",
              "       [-0.57380915, -1.09598752, -0.57873591, ...,  0.64609167,\n",
              "        -1.03067011,  0.2406869 ],\n",
              "       ...,\n",
              "       [-0.57380915, -1.09598752, -0.57873591, ..., -1.54776799,\n",
              "         0.97024255, -1.00864308],\n",
              "       [-0.57380915,  0.91241915,  1.72790383, ...,  0.64609167,\n",
              "        -1.03067011, -0.12523071],\n",
              "       [-0.57380915, -1.09598752, -0.57873591, ...,  0.64609167,\n",
              "        -1.03067011, -1.07636976]])"
            ]
          },
          "execution_count": 38,
          "metadata": {},
          "output_type": "execute_result"
        }
      ],
      "source": [
        "x=pipeline.fit_transform(x)\n",
        "x"
      ]
    },
    {
      "cell_type": "code",
      "execution_count": null,
      "id": "e51b1362",
      "metadata": {
        "id": "e51b1362"
      },
      "outputs": [],
      "source": [
        "from sklearn.model_selection import train_test_split\n",
        "x_train, x_test, y_train, y_test = train_test_split(x, y, test_size = 0.2, random_state = 0)"
      ]
    },
    {
      "cell_type": "code",
      "execution_count": null,
      "id": "653da2d0",
      "metadata": {
        "id": "653da2d0"
      },
      "outputs": [],
      "source": [
        "from keras.models import Sequential\n",
        "from keras.layers import Dense, Dropout"
      ]
    },
    {
      "cell_type": "code",
      "execution_count": null,
      "id": "ee42ffa0",
      "metadata": {
        "id": "ee42ffa0"
      },
      "outputs": [],
      "source": [
        "nn=Sequential()"
      ]
    },
    {
      "cell_type": "code",
      "execution_count": null,
      "id": "9373c5c7",
      "metadata": {
        "id": "9373c5c7"
      },
      "outputs": [],
      "source": [
        "nn.add(Dense(6,activation=\"relu\",input_shape=(x_train.shape[1],)))\n",
        "nn.add(Dropout(rate=0.1))"
      ]
    },
    {
      "cell_type": "code",
      "execution_count": null,
      "id": "37fafa58",
      "metadata": {
        "id": "37fafa58"
      },
      "outputs": [],
      "source": [
        "nn.add(Dense(6,activation=\"relu\"))\n",
        "nn.add(Dropout(rate=0.1))"
      ]
    },
    {
      "cell_type": "code",
      "execution_count": null,
      "id": "a7ad93b1",
      "metadata": {
        "id": "a7ad93b1"
      },
      "outputs": [],
      "source": [
        "nn.add(Dense(1,activation=\"sigmoid\"))"
      ]
    },
    {
      "cell_type": "code",
      "execution_count": null,
      "id": "9c15fc3d",
      "metadata": {
        "id": "9c15fc3d",
        "outputId": "eab0d1dd-b708-4425-9ea9-0fec67a4d661"
      },
      "outputs": [
        {
          "name": "stdout",
          "output_type": "stream",
          "text": [
            "Model: \"sequential\"\n",
            "_________________________________________________________________\n",
            " Layer (type)                Output Shape              Param #   \n",
            "=================================================================\n",
            " dense (Dense)               (None, 6)                 72        \n",
            "                                                                 \n",
            " dropout (Dropout)           (None, 6)                 0         \n",
            "                                                                 \n",
            " dense_1 (Dense)             (None, 6)                 42        \n",
            "                                                                 \n",
            " dropout_1 (Dropout)         (None, 6)                 0         \n",
            "                                                                 \n",
            " dense_2 (Dense)             (None, 1)                 7         \n",
            "                                                                 \n",
            "=================================================================\n",
            "Total params: 121 (484.00 Byte)\n",
            "Trainable params: 121 (484.00 Byte)\n",
            "Non-trainable params: 0 (0.00 Byte)\n",
            "_________________________________________________________________\n"
          ]
        }
      ],
      "source": [
        "nn.summary()"
      ]
    },
    {
      "cell_type": "code",
      "execution_count": null,
      "id": "5b3b0016",
      "metadata": {
        "id": "5b3b0016",
        "outputId": "12c71e88-072e-49dc-a9e8-c1c6d05402d9"
      },
      "outputs": [
        {
          "name": "stdout",
          "output_type": "stream",
          "text": [
            "Epoch 1/200\n",
            "225/225 - 2s - loss: 0.5732 - accuracy: 0.7933 - val_loss: 0.5263 - val_accuracy: 0.7950 - 2s/epoch - 10ms/step\n",
            "Epoch 2/200\n",
            "225/225 - 1s - loss: 0.5111 - accuracy: 0.7953 - val_loss: 0.4851 - val_accuracy: 0.7950 - 653ms/epoch - 3ms/step\n",
            "Epoch 3/200\n",
            "225/225 - 1s - loss: 0.4800 - accuracy: 0.7951 - val_loss: 0.4595 - val_accuracy: 0.7950 - 652ms/epoch - 3ms/step\n",
            "Epoch 4/200\n",
            "225/225 - 1s - loss: 0.4649 - accuracy: 0.7947 - val_loss: 0.4471 - val_accuracy: 0.7950 - 656ms/epoch - 3ms/step\n",
            "Epoch 5/200\n",
            "225/225 - 1s - loss: 0.4561 - accuracy: 0.7954 - val_loss: 0.4382 - val_accuracy: 0.7962 - 654ms/epoch - 3ms/step\n",
            "Epoch 6/200\n",
            "225/225 - 1s - loss: 0.4474 - accuracy: 0.7974 - val_loss: 0.4317 - val_accuracy: 0.7962 - 671ms/epoch - 3ms/step\n",
            "Epoch 7/200\n",
            "225/225 - 1s - loss: 0.4466 - accuracy: 0.7969 - val_loss: 0.4274 - val_accuracy: 0.7975 - 609ms/epoch - 3ms/step\n",
            "Epoch 8/200\n",
            "225/225 - 1s - loss: 0.4422 - accuracy: 0.7967 - val_loss: 0.4229 - val_accuracy: 0.8000 - 653ms/epoch - 3ms/step\n",
            "Epoch 9/200\n",
            "225/225 - 1s - loss: 0.4430 - accuracy: 0.7971 - val_loss: 0.4194 - val_accuracy: 0.8037 - 598ms/epoch - 3ms/step\n",
            "Epoch 10/200\n",
            "225/225 - 1s - loss: 0.4376 - accuracy: 0.8015 - val_loss: 0.4153 - val_accuracy: 0.8087 - 623ms/epoch - 3ms/step\n",
            "Epoch 11/200\n",
            "225/225 - 1s - loss: 0.4355 - accuracy: 0.8065 - val_loss: 0.4115 - val_accuracy: 0.8138 - 573ms/epoch - 3ms/step\n",
            "Epoch 12/200\n",
            "225/225 - 1s - loss: 0.4350 - accuracy: 0.8075 - val_loss: 0.4109 - val_accuracy: 0.8138 - 577ms/epoch - 3ms/step\n",
            "Epoch 13/200\n",
            "225/225 - 1s - loss: 0.4304 - accuracy: 0.8118 - val_loss: 0.4054 - val_accuracy: 0.8225 - 597ms/epoch - 3ms/step\n",
            "Epoch 14/200\n",
            "225/225 - 1s - loss: 0.4301 - accuracy: 0.8147 - val_loss: 0.4022 - val_accuracy: 0.8225 - 596ms/epoch - 3ms/step\n",
            "Epoch 15/200\n",
            "225/225 - 1s - loss: 0.4271 - accuracy: 0.8196 - val_loss: 0.3980 - val_accuracy: 0.8338 - 638ms/epoch - 3ms/step\n",
            "Epoch 16/200\n",
            "225/225 - 1s - loss: 0.4276 - accuracy: 0.8182 - val_loss: 0.3957 - val_accuracy: 0.8275 - 628ms/epoch - 3ms/step\n",
            "Epoch 17/200\n",
            "225/225 - 1s - loss: 0.4242 - accuracy: 0.8194 - val_loss: 0.3916 - val_accuracy: 0.8450 - 625ms/epoch - 3ms/step\n",
            "Epoch 18/200\n",
            "225/225 - 1s - loss: 0.4197 - accuracy: 0.8239 - val_loss: 0.3882 - val_accuracy: 0.8425 - 610ms/epoch - 3ms/step\n",
            "Epoch 19/200\n",
            "225/225 - 1s - loss: 0.4152 - accuracy: 0.8222 - val_loss: 0.3842 - val_accuracy: 0.8462 - 623ms/epoch - 3ms/step\n",
            "Epoch 20/200\n",
            "225/225 - 1s - loss: 0.4166 - accuracy: 0.8200 - val_loss: 0.3837 - val_accuracy: 0.8438 - 595ms/epoch - 3ms/step\n",
            "Epoch 21/200\n",
            "225/225 - 1s - loss: 0.4181 - accuracy: 0.8206 - val_loss: 0.3819 - val_accuracy: 0.8450 - 628ms/epoch - 3ms/step\n",
            "Epoch 22/200\n",
            "225/225 - 1s - loss: 0.4171 - accuracy: 0.8214 - val_loss: 0.3805 - val_accuracy: 0.8500 - 604ms/epoch - 3ms/step\n",
            "Epoch 23/200\n",
            "225/225 - 1s - loss: 0.4134 - accuracy: 0.8226 - val_loss: 0.3794 - val_accuracy: 0.8475 - 617ms/epoch - 3ms/step\n",
            "Epoch 24/200\n",
            "225/225 - 1s - loss: 0.4146 - accuracy: 0.8221 - val_loss: 0.3770 - val_accuracy: 0.8475 - 677ms/epoch - 3ms/step\n",
            "Epoch 25/200\n",
            "225/225 - 1s - loss: 0.4159 - accuracy: 0.8213 - val_loss: 0.3755 - val_accuracy: 0.8462 - 716ms/epoch - 3ms/step\n",
            "Epoch 26/200\n",
            "225/225 - 1s - loss: 0.4059 - accuracy: 0.8239 - val_loss: 0.3724 - val_accuracy: 0.8475 - 644ms/epoch - 3ms/step\n",
            "Epoch 27/200\n",
            "225/225 - 1s - loss: 0.4079 - accuracy: 0.8275 - val_loss: 0.3703 - val_accuracy: 0.8475 - 654ms/epoch - 3ms/step\n",
            "Epoch 28/200\n",
            "225/225 - 1s - loss: 0.4106 - accuracy: 0.8229 - val_loss: 0.3691 - val_accuracy: 0.8450 - 829ms/epoch - 4ms/step\n",
            "Epoch 29/200\n",
            "225/225 - 1s - loss: 0.4062 - accuracy: 0.8272 - val_loss: 0.3677 - val_accuracy: 0.8462 - 706ms/epoch - 3ms/step\n",
            "Epoch 30/200\n",
            "225/225 - 1s - loss: 0.4052 - accuracy: 0.8278 - val_loss: 0.3661 - val_accuracy: 0.8475 - 815ms/epoch - 4ms/step\n",
            "Epoch 31/200\n",
            "225/225 - 1s - loss: 0.4059 - accuracy: 0.8218 - val_loss: 0.3671 - val_accuracy: 0.8475 - 666ms/epoch - 3ms/step\n",
            "Epoch 32/200\n",
            "225/225 - 1s - loss: 0.4069 - accuracy: 0.8225 - val_loss: 0.3652 - val_accuracy: 0.8475 - 618ms/epoch - 3ms/step\n",
            "Epoch 33/200\n",
            "225/225 - 1s - loss: 0.4041 - accuracy: 0.8224 - val_loss: 0.3644 - val_accuracy: 0.8450 - 632ms/epoch - 3ms/step\n",
            "Epoch 34/200\n",
            "225/225 - 1s - loss: 0.4057 - accuracy: 0.8233 - val_loss: 0.3646 - val_accuracy: 0.8500 - 644ms/epoch - 3ms/step\n",
            "Epoch 35/200\n",
            "225/225 - 1s - loss: 0.4018 - accuracy: 0.8219 - val_loss: 0.3612 - val_accuracy: 0.8462 - 604ms/epoch - 3ms/step\n",
            "Epoch 36/200\n",
            "225/225 - 1s - loss: 0.4049 - accuracy: 0.8222 - val_loss: 0.3615 - val_accuracy: 0.8487 - 629ms/epoch - 3ms/step\n",
            "Epoch 37/200\n",
            "225/225 - 1s - loss: 0.4027 - accuracy: 0.8233 - val_loss: 0.3617 - val_accuracy: 0.8500 - 763ms/epoch - 3ms/step\n",
            "Epoch 38/200\n",
            "225/225 - 1s - loss: 0.4024 - accuracy: 0.8229 - val_loss: 0.3626 - val_accuracy: 0.8487 - 690ms/epoch - 3ms/step\n",
            "Epoch 39/200\n",
            "225/225 - 1s - loss: 0.4019 - accuracy: 0.8268 - val_loss: 0.3602 - val_accuracy: 0.8525 - 796ms/epoch - 4ms/step\n",
            "Epoch 40/200\n",
            "225/225 - 1s - loss: 0.4024 - accuracy: 0.8171 - val_loss: 0.3602 - val_accuracy: 0.8487 - 630ms/epoch - 3ms/step\n",
            "Epoch 41/200\n",
            "225/225 - 1s - loss: 0.4026 - accuracy: 0.8199 - val_loss: 0.3602 - val_accuracy: 0.8487 - 681ms/epoch - 3ms/step\n",
            "Epoch 42/200\n",
            "225/225 - 1s - loss: 0.4036 - accuracy: 0.8225 - val_loss: 0.3602 - val_accuracy: 0.8462 - 655ms/epoch - 3ms/step\n",
            "Epoch 43/200\n",
            "225/225 - 1s - loss: 0.4017 - accuracy: 0.8203 - val_loss: 0.3590 - val_accuracy: 0.8475 - 643ms/epoch - 3ms/step\n",
            "Epoch 44/200\n",
            "225/225 - 1s - loss: 0.3970 - accuracy: 0.8256 - val_loss: 0.3562 - val_accuracy: 0.8475 - 600ms/epoch - 3ms/step\n",
            "Epoch 45/200\n",
            "225/225 - 1s - loss: 0.4047 - accuracy: 0.8218 - val_loss: 0.3579 - val_accuracy: 0.8475 - 586ms/epoch - 3ms/step\n",
            "Epoch 46/200\n",
            "225/225 - 1s - loss: 0.4032 - accuracy: 0.8221 - val_loss: 0.3602 - val_accuracy: 0.8450 - 673ms/epoch - 3ms/step\n",
            "Epoch 47/200\n",
            "225/225 - 1s - loss: 0.4009 - accuracy: 0.8225 - val_loss: 0.3575 - val_accuracy: 0.8450 - 643ms/epoch - 3ms/step\n",
            "Epoch 48/200\n",
            "225/225 - 1s - loss: 0.4006 - accuracy: 0.8210 - val_loss: 0.3581 - val_accuracy: 0.8438 - 602ms/epoch - 3ms/step\n",
            "Epoch 49/200\n",
            "225/225 - 1s - loss: 0.4011 - accuracy: 0.8233 - val_loss: 0.3564 - val_accuracy: 0.8500 - 622ms/epoch - 3ms/step\n",
            "Epoch 50/200\n",
            "225/225 - 1s - loss: 0.4004 - accuracy: 0.8226 - val_loss: 0.3559 - val_accuracy: 0.8500 - 674ms/epoch - 3ms/step\n",
            "Epoch 51/200\n",
            "225/225 - 1s - loss: 0.3985 - accuracy: 0.8229 - val_loss: 0.3560 - val_accuracy: 0.8500 - 669ms/epoch - 3ms/step\n",
            "Epoch 52/200\n",
            "225/225 - 1s - loss: 0.3999 - accuracy: 0.8215 - val_loss: 0.3562 - val_accuracy: 0.8487 - 598ms/epoch - 3ms/step\n",
            "Epoch 53/200\n",
            "225/225 - 1s - loss: 0.3975 - accuracy: 0.8221 - val_loss: 0.3561 - val_accuracy: 0.8500 - 598ms/epoch - 3ms/step\n",
            "Epoch 54/200\n",
            "225/225 - 1s - loss: 0.3975 - accuracy: 0.8214 - val_loss: 0.3559 - val_accuracy: 0.8475 - 641ms/epoch - 3ms/step\n",
            "Epoch 55/200\n",
            "225/225 - 1s - loss: 0.3996 - accuracy: 0.8236 - val_loss: 0.3561 - val_accuracy: 0.8512 - 653ms/epoch - 3ms/step\n",
            "Epoch 56/200\n",
            "225/225 - 1s - loss: 0.3971 - accuracy: 0.8232 - val_loss: 0.3545 - val_accuracy: 0.8512 - 551ms/epoch - 2ms/step\n",
            "Epoch 57/200\n",
            "225/225 - 1s - loss: 0.3981 - accuracy: 0.8226 - val_loss: 0.3546 - val_accuracy: 0.8500 - 572ms/epoch - 3ms/step\n",
            "Epoch 58/200\n",
            "225/225 - 1s - loss: 0.3982 - accuracy: 0.8229 - val_loss: 0.3549 - val_accuracy: 0.8487 - 635ms/epoch - 3ms/step\n",
            "Epoch 59/200\n",
            "225/225 - 1s - loss: 0.3945 - accuracy: 0.8236 - val_loss: 0.3532 - val_accuracy: 0.8487 - 644ms/epoch - 3ms/step\n",
            "Epoch 60/200\n",
            "225/225 - 1s - loss: 0.3974 - accuracy: 0.8235 - val_loss: 0.3533 - val_accuracy: 0.8475 - 717ms/epoch - 3ms/step\n",
            "Epoch 61/200\n",
            "225/225 - 1s - loss: 0.3985 - accuracy: 0.8211 - val_loss: 0.3532 - val_accuracy: 0.8500 - 583ms/epoch - 3ms/step\n",
            "Epoch 62/200\n",
            "225/225 - 1s - loss: 0.3972 - accuracy: 0.8213 - val_loss: 0.3540 - val_accuracy: 0.8487 - 598ms/epoch - 3ms/step\n",
            "Epoch 63/200\n",
            "225/225 - 1s - loss: 0.3953 - accuracy: 0.8228 - val_loss: 0.3536 - val_accuracy: 0.8487 - 581ms/epoch - 3ms/step\n",
            "Epoch 64/200\n",
            "225/225 - 1s - loss: 0.3923 - accuracy: 0.8246 - val_loss: 0.3507 - val_accuracy: 0.8462 - 588ms/epoch - 3ms/step\n",
            "Epoch 65/200\n",
            "225/225 - 1s - loss: 0.3957 - accuracy: 0.8235 - val_loss: 0.3509 - val_accuracy: 0.8450 - 567ms/epoch - 3ms/step\n"
          ]
        },
        {
          "name": "stdout",
          "output_type": "stream",
          "text": [
            "Epoch 66/200\n",
            "225/225 - 1s - loss: 0.3946 - accuracy: 0.8222 - val_loss: 0.3522 - val_accuracy: 0.8450 - 685ms/epoch - 3ms/step\n",
            "Epoch 67/200\n",
            "225/225 - 1s - loss: 0.3961 - accuracy: 0.8204 - val_loss: 0.3514 - val_accuracy: 0.8475 - 581ms/epoch - 3ms/step\n",
            "Epoch 68/200\n",
            "225/225 - 1s - loss: 0.3994 - accuracy: 0.8196 - val_loss: 0.3521 - val_accuracy: 0.8475 - 573ms/epoch - 3ms/step\n",
            "Epoch 69/200\n",
            "225/225 - 1s - loss: 0.3970 - accuracy: 0.8206 - val_loss: 0.3522 - val_accuracy: 0.8450 - 610ms/epoch - 3ms/step\n",
            "Epoch 70/200\n",
            "225/225 - 1s - loss: 0.3979 - accuracy: 0.8197 - val_loss: 0.3521 - val_accuracy: 0.8450 - 587ms/epoch - 3ms/step\n",
            "Epoch 71/200\n",
            "225/225 - 1s - loss: 0.3976 - accuracy: 0.8203 - val_loss: 0.3526 - val_accuracy: 0.8462 - 624ms/epoch - 3ms/step\n",
            "Epoch 72/200\n",
            "225/225 - 1s - loss: 0.3976 - accuracy: 0.8204 - val_loss: 0.3521 - val_accuracy: 0.8487 - 594ms/epoch - 3ms/step\n",
            "Epoch 73/200\n",
            "225/225 - 1s - loss: 0.3944 - accuracy: 0.8236 - val_loss: 0.3509 - val_accuracy: 0.8475 - 578ms/epoch - 3ms/step\n",
            "Epoch 74/200\n",
            "225/225 - 1s - loss: 0.3918 - accuracy: 0.8256 - val_loss: 0.3502 - val_accuracy: 0.8462 - 592ms/epoch - 3ms/step\n",
            "Epoch 75/200\n",
            "225/225 - 1s - loss: 0.3966 - accuracy: 0.8228 - val_loss: 0.3521 - val_accuracy: 0.8475 - 597ms/epoch - 3ms/step\n",
            "Epoch 76/200\n",
            "225/225 - 1s - loss: 0.3957 - accuracy: 0.8224 - val_loss: 0.3521 - val_accuracy: 0.8462 - 586ms/epoch - 3ms/step\n",
            "Epoch 77/200\n",
            "225/225 - 1s - loss: 0.3955 - accuracy: 0.8219 - val_loss: 0.3506 - val_accuracy: 0.8450 - 592ms/epoch - 3ms/step\n",
            "Epoch 78/200\n",
            "225/225 - 1s - loss: 0.3971 - accuracy: 0.8204 - val_loss: 0.3524 - val_accuracy: 0.8475 - 562ms/epoch - 2ms/step\n",
            "Epoch 79/200\n",
            "225/225 - 1s - loss: 0.3947 - accuracy: 0.8236 - val_loss: 0.3526 - val_accuracy: 0.8462 - 595ms/epoch - 3ms/step\n",
            "Epoch 80/200\n",
            "225/225 - 1s - loss: 0.3932 - accuracy: 0.8224 - val_loss: 0.3509 - val_accuracy: 0.8438 - 577ms/epoch - 3ms/step\n",
            "Epoch 81/200\n",
            "225/225 - 1s - loss: 0.3939 - accuracy: 0.8224 - val_loss: 0.3513 - val_accuracy: 0.8450 - 563ms/epoch - 3ms/step\n",
            "Epoch 82/200\n",
            "225/225 - 1s - loss: 0.3900 - accuracy: 0.8222 - val_loss: 0.3502 - val_accuracy: 0.8450 - 574ms/epoch - 3ms/step\n",
            "Epoch 83/200\n",
            "225/225 - 1s - loss: 0.3906 - accuracy: 0.8228 - val_loss: 0.3505 - val_accuracy: 0.8450 - 557ms/epoch - 2ms/step\n",
            "Epoch 84/200\n",
            "225/225 - 1s - loss: 0.3938 - accuracy: 0.8226 - val_loss: 0.3505 - val_accuracy: 0.8450 - 572ms/epoch - 3ms/step\n",
            "Epoch 85/200\n",
            "225/225 - 1s - loss: 0.3935 - accuracy: 0.8206 - val_loss: 0.3497 - val_accuracy: 0.8475 - 570ms/epoch - 3ms/step\n",
            "Epoch 86/200\n",
            "225/225 - 1s - loss: 0.3937 - accuracy: 0.8229 - val_loss: 0.3506 - val_accuracy: 0.8450 - 580ms/epoch - 3ms/step\n",
            "Epoch 87/200\n",
            "225/225 - 1s - loss: 0.3933 - accuracy: 0.8232 - val_loss: 0.3492 - val_accuracy: 0.8450 - 574ms/epoch - 3ms/step\n",
            "Epoch 88/200\n",
            "225/225 - 1s - loss: 0.3920 - accuracy: 0.8206 - val_loss: 0.3508 - val_accuracy: 0.8438 - 673ms/epoch - 3ms/step\n",
            "Epoch 89/200\n",
            "225/225 - 1s - loss: 0.3914 - accuracy: 0.8219 - val_loss: 0.3517 - val_accuracy: 0.8462 - 599ms/epoch - 3ms/step\n",
            "Epoch 90/200\n",
            "225/225 - 1s - loss: 0.3922 - accuracy: 0.8260 - val_loss: 0.3506 - val_accuracy: 0.8462 - 581ms/epoch - 3ms/step\n",
            "Epoch 91/200\n",
            "225/225 - 1s - loss: 0.3947 - accuracy: 0.8163 - val_loss: 0.3523 - val_accuracy: 0.8450 - 566ms/epoch - 3ms/step\n",
            "Epoch 92/200\n",
            "225/225 - 1s - loss: 0.3882 - accuracy: 0.8231 - val_loss: 0.3496 - val_accuracy: 0.8462 - 575ms/epoch - 3ms/step\n",
            "Epoch 93/200\n",
            "225/225 - 1s - loss: 0.3925 - accuracy: 0.8188 - val_loss: 0.3498 - val_accuracy: 0.8450 - 576ms/epoch - 3ms/step\n",
            "Epoch 94/200\n",
            "225/225 - 1s - loss: 0.3917 - accuracy: 0.8204 - val_loss: 0.3494 - val_accuracy: 0.8487 - 561ms/epoch - 2ms/step\n",
            "Epoch 95/200\n",
            "225/225 - 1s - loss: 0.3927 - accuracy: 0.8201 - val_loss: 0.3514 - val_accuracy: 0.8438 - 579ms/epoch - 3ms/step\n",
            "Epoch 96/200\n",
            "225/225 - 1s - loss: 0.3883 - accuracy: 0.8228 - val_loss: 0.3512 - val_accuracy: 0.8462 - 571ms/epoch - 3ms/step\n",
            "Epoch 97/200\n",
            "225/225 - 1s - loss: 0.3877 - accuracy: 0.8217 - val_loss: 0.3487 - val_accuracy: 0.8413 - 566ms/epoch - 3ms/step\n",
            "Epoch 98/200\n",
            "225/225 - 1s - loss: 0.3903 - accuracy: 0.8208 - val_loss: 0.3484 - val_accuracy: 0.8438 - 565ms/epoch - 3ms/step\n",
            "Epoch 99/200\n",
            "225/225 - 1s - loss: 0.3924 - accuracy: 0.8231 - val_loss: 0.3487 - val_accuracy: 0.8462 - 551ms/epoch - 2ms/step\n",
            "Epoch 100/200\n",
            "225/225 - 1s - loss: 0.3888 - accuracy: 0.8192 - val_loss: 0.3486 - val_accuracy: 0.8450 - 561ms/epoch - 2ms/step\n",
            "Epoch 101/200\n",
            "225/225 - 1s - loss: 0.3935 - accuracy: 0.8183 - val_loss: 0.3517 - val_accuracy: 0.8438 - 592ms/epoch - 3ms/step\n",
            "Epoch 102/200\n",
            "225/225 - 1s - loss: 0.3910 - accuracy: 0.8182 - val_loss: 0.3509 - val_accuracy: 0.8462 - 577ms/epoch - 3ms/step\n",
            "Epoch 103/200\n",
            "225/225 - 1s - loss: 0.3939 - accuracy: 0.8192 - val_loss: 0.3496 - val_accuracy: 0.8438 - 596ms/epoch - 3ms/step\n",
            "Epoch 104/200\n",
            "225/225 - 1s - loss: 0.3902 - accuracy: 0.8211 - val_loss: 0.3499 - val_accuracy: 0.8512 - 626ms/epoch - 3ms/step\n",
            "Epoch 105/200\n",
            "225/225 - 1s - loss: 0.3905 - accuracy: 0.8228 - val_loss: 0.3508 - val_accuracy: 0.8462 - 604ms/epoch - 3ms/step\n",
            "Epoch 106/200\n",
            "225/225 - 1s - loss: 0.3934 - accuracy: 0.8188 - val_loss: 0.3509 - val_accuracy: 0.8475 - 625ms/epoch - 3ms/step\n",
            "Epoch 107/200\n",
            "225/225 - 1s - loss: 0.3901 - accuracy: 0.8192 - val_loss: 0.3514 - val_accuracy: 0.8450 - 672ms/epoch - 3ms/step\n",
            "Epoch 108/200\n",
            "225/225 - 1s - loss: 0.3943 - accuracy: 0.8208 - val_loss: 0.3514 - val_accuracy: 0.8450 - 641ms/epoch - 3ms/step\n",
            "Epoch 109/200\n",
            "225/225 - 1s - loss: 0.3887 - accuracy: 0.8224 - val_loss: 0.3495 - val_accuracy: 0.8462 - 640ms/epoch - 3ms/step\n",
            "Epoch 110/200\n",
            "225/225 - 1s - loss: 0.3884 - accuracy: 0.8228 - val_loss: 0.3480 - val_accuracy: 0.8450 - 675ms/epoch - 3ms/step\n",
            "Epoch 111/200\n",
            "225/225 - 1s - loss: 0.3910 - accuracy: 0.8188 - val_loss: 0.3487 - val_accuracy: 0.8487 - 588ms/epoch - 3ms/step\n",
            "Epoch 112/200\n",
            "225/225 - 1s - loss: 0.3865 - accuracy: 0.8210 - val_loss: 0.3509 - val_accuracy: 0.8487 - 567ms/epoch - 3ms/step\n",
            "Epoch 113/200\n",
            "225/225 - 1s - loss: 0.3896 - accuracy: 0.8200 - val_loss: 0.3495 - val_accuracy: 0.8462 - 563ms/epoch - 3ms/step\n",
            "Epoch 114/200\n",
            "225/225 - 1s - loss: 0.3877 - accuracy: 0.8203 - val_loss: 0.3484 - val_accuracy: 0.8450 - 564ms/epoch - 3ms/step\n",
            "Epoch 115/200\n",
            "225/225 - 1s - loss: 0.3881 - accuracy: 0.8206 - val_loss: 0.3497 - val_accuracy: 0.8450 - 563ms/epoch - 3ms/step\n",
            "Epoch 116/200\n",
            "225/225 - 1s - loss: 0.3900 - accuracy: 0.8219 - val_loss: 0.3517 - val_accuracy: 0.8450 - 566ms/epoch - 3ms/step\n",
            "Epoch 117/200\n",
            "225/225 - 1s - loss: 0.3931 - accuracy: 0.8178 - val_loss: 0.3492 - val_accuracy: 0.8450 - 579ms/epoch - 3ms/step\n",
            "Epoch 118/200\n",
            "225/225 - 1s - loss: 0.3855 - accuracy: 0.8210 - val_loss: 0.3519 - val_accuracy: 0.8450 - 594ms/epoch - 3ms/step\n",
            "Epoch 119/200\n",
            "225/225 - 1s - loss: 0.3919 - accuracy: 0.8188 - val_loss: 0.3509 - val_accuracy: 0.8462 - 600ms/epoch - 3ms/step\n",
            "Epoch 120/200\n",
            "225/225 - 1s - loss: 0.3906 - accuracy: 0.8200 - val_loss: 0.3493 - val_accuracy: 0.8438 - 565ms/epoch - 3ms/step\n",
            "Epoch 121/200\n",
            "225/225 - 1s - loss: 0.3900 - accuracy: 0.8217 - val_loss: 0.3500 - val_accuracy: 0.8450 - 580ms/epoch - 3ms/step\n",
            "Epoch 122/200\n",
            "225/225 - 1s - loss: 0.3869 - accuracy: 0.8229 - val_loss: 0.3502 - val_accuracy: 0.8438 - 568ms/epoch - 3ms/step\n",
            "Epoch 123/200\n",
            "225/225 - 1s - loss: 0.3875 - accuracy: 0.8208 - val_loss: 0.3520 - val_accuracy: 0.8462 - 574ms/epoch - 3ms/step\n",
            "Epoch 124/200\n",
            "225/225 - 1s - loss: 0.3903 - accuracy: 0.8201 - val_loss: 0.3519 - val_accuracy: 0.8475 - 566ms/epoch - 3ms/step\n",
            "Epoch 125/200\n",
            "225/225 - 1s - loss: 0.3832 - accuracy: 0.8236 - val_loss: 0.3478 - val_accuracy: 0.8450 - 569ms/epoch - 3ms/step\n",
            "Epoch 126/200\n",
            "225/225 - 1s - loss: 0.3923 - accuracy: 0.8182 - val_loss: 0.3492 - val_accuracy: 0.8450 - 585ms/epoch - 3ms/step\n",
            "Epoch 127/200\n",
            "225/225 - 1s - loss: 0.3922 - accuracy: 0.8197 - val_loss: 0.3508 - val_accuracy: 0.8450 - 583ms/epoch - 3ms/step\n",
            "Epoch 128/200\n",
            "225/225 - 1s - loss: 0.3845 - accuracy: 0.8197 - val_loss: 0.3485 - val_accuracy: 0.8475 - 585ms/epoch - 3ms/step\n",
            "Epoch 129/200\n",
            "225/225 - 1s - loss: 0.3864 - accuracy: 0.8226 - val_loss: 0.3503 - val_accuracy: 0.8475 - 581ms/epoch - 3ms/step\n",
            "Epoch 130/200\n",
            "225/225 - 1s - loss: 0.3875 - accuracy: 0.8201 - val_loss: 0.3498 - val_accuracy: 0.8450 - 613ms/epoch - 3ms/step\n"
          ]
        },
        {
          "name": "stdout",
          "output_type": "stream",
          "text": [
            "Epoch 131/200\n",
            "225/225 - 1s - loss: 0.3881 - accuracy: 0.8231 - val_loss: 0.3487 - val_accuracy: 0.8462 - 635ms/epoch - 3ms/step\n",
            "Epoch 132/200\n",
            "225/225 - 1s - loss: 0.3885 - accuracy: 0.8224 - val_loss: 0.3501 - val_accuracy: 0.8450 - 573ms/epoch - 3ms/step\n",
            "Epoch 133/200\n",
            "225/225 - 1s - loss: 0.3899 - accuracy: 0.8219 - val_loss: 0.3496 - val_accuracy: 0.8438 - 572ms/epoch - 3ms/step\n",
            "Epoch 134/200\n",
            "225/225 - 1s - loss: 0.3896 - accuracy: 0.8210 - val_loss: 0.3486 - val_accuracy: 0.8462 - 560ms/epoch - 2ms/step\n",
            "Epoch 135/200\n",
            "225/225 - 1s - loss: 0.3924 - accuracy: 0.8196 - val_loss: 0.3500 - val_accuracy: 0.8450 - 567ms/epoch - 3ms/step\n",
            "Epoch 136/200\n",
            "225/225 - 1s - loss: 0.3896 - accuracy: 0.8250 - val_loss: 0.3498 - val_accuracy: 0.8438 - 569ms/epoch - 3ms/step\n",
            "Epoch 137/200\n",
            "225/225 - 1s - loss: 0.3852 - accuracy: 0.8225 - val_loss: 0.3504 - val_accuracy: 0.8450 - 564ms/epoch - 3ms/step\n",
            "Epoch 138/200\n",
            "225/225 - 1s - loss: 0.3894 - accuracy: 0.8179 - val_loss: 0.3519 - val_accuracy: 0.8450 - 572ms/epoch - 3ms/step\n",
            "Epoch 139/200\n",
            "225/225 - 1s - loss: 0.3891 - accuracy: 0.8207 - val_loss: 0.3516 - val_accuracy: 0.8450 - 578ms/epoch - 3ms/step\n",
            "Epoch 140/200\n",
            "225/225 - 1s - loss: 0.3876 - accuracy: 0.8228 - val_loss: 0.3500 - val_accuracy: 0.8450 - 588ms/epoch - 3ms/step\n",
            "Epoch 141/200\n",
            "225/225 - 1s - loss: 0.3876 - accuracy: 0.8203 - val_loss: 0.3520 - val_accuracy: 0.8450 - 564ms/epoch - 3ms/step\n",
            "Epoch 142/200\n",
            "225/225 - 1s - loss: 0.3842 - accuracy: 0.8193 - val_loss: 0.3493 - val_accuracy: 0.8450 - 558ms/epoch - 2ms/step\n",
            "Epoch 143/200\n",
            "225/225 - 1s - loss: 0.3877 - accuracy: 0.8207 - val_loss: 0.3506 - val_accuracy: 0.8450 - 561ms/epoch - 2ms/step\n",
            "Epoch 144/200\n",
            "225/225 - 1s - loss: 0.3848 - accuracy: 0.8201 - val_loss: 0.3511 - val_accuracy: 0.8462 - 628ms/epoch - 3ms/step\n",
            "Epoch 145/200\n",
            "225/225 - 1s - loss: 0.3880 - accuracy: 0.8204 - val_loss: 0.3507 - val_accuracy: 0.8425 - 620ms/epoch - 3ms/step\n",
            "Epoch 146/200\n",
            "225/225 - 1s - loss: 0.3883 - accuracy: 0.8247 - val_loss: 0.3524 - val_accuracy: 0.8450 - 564ms/epoch - 3ms/step\n",
            "Epoch 147/200\n",
            "225/225 - 1s - loss: 0.3891 - accuracy: 0.8219 - val_loss: 0.3516 - val_accuracy: 0.8462 - 579ms/epoch - 3ms/step\n",
            "Epoch 148/200\n",
            "225/225 - 1s - loss: 0.3870 - accuracy: 0.8224 - val_loss: 0.3510 - val_accuracy: 0.8425 - 561ms/epoch - 2ms/step\n",
            "Epoch 149/200\n",
            "225/225 - 1s - loss: 0.3894 - accuracy: 0.8196 - val_loss: 0.3514 - val_accuracy: 0.8438 - 563ms/epoch - 3ms/step\n",
            "Epoch 150/200\n",
            "225/225 - 1s - loss: 0.3878 - accuracy: 0.8199 - val_loss: 0.3484 - val_accuracy: 0.8462 - 559ms/epoch - 2ms/step\n",
            "Epoch 151/200\n",
            "225/225 - 1s - loss: 0.3877 - accuracy: 0.8213 - val_loss: 0.3506 - val_accuracy: 0.8450 - 569ms/epoch - 3ms/step\n",
            "Epoch 152/200\n",
            "225/225 - 1s - loss: 0.3879 - accuracy: 0.8239 - val_loss: 0.3496 - val_accuracy: 0.8450 - 585ms/epoch - 3ms/step\n",
            "Epoch 153/200\n",
            "225/225 - 1s - loss: 0.3927 - accuracy: 0.8197 - val_loss: 0.3531 - val_accuracy: 0.8462 - 585ms/epoch - 3ms/step\n",
            "Epoch 154/200\n",
            "225/225 - 1s - loss: 0.3895 - accuracy: 0.8203 - val_loss: 0.3503 - val_accuracy: 0.8425 - 561ms/epoch - 2ms/step\n",
            "Epoch 155/200\n",
            "225/225 - 1s - loss: 0.3873 - accuracy: 0.8194 - val_loss: 0.3507 - val_accuracy: 0.8438 - 578ms/epoch - 3ms/step\n",
            "Epoch 156/200\n",
            "225/225 - 1s - loss: 0.3876 - accuracy: 0.8244 - val_loss: 0.3519 - val_accuracy: 0.8450 - 577ms/epoch - 3ms/step\n",
            "Epoch 157/200\n",
            "225/225 - 1s - loss: 0.3804 - accuracy: 0.8226 - val_loss: 0.3490 - val_accuracy: 0.8450 - 580ms/epoch - 3ms/step\n",
            "Epoch 158/200\n",
            "225/225 - 1s - loss: 0.3864 - accuracy: 0.8222 - val_loss: 0.3514 - val_accuracy: 0.8425 - 567ms/epoch - 3ms/step\n",
            "Epoch 159/200\n",
            "225/225 - 1s - loss: 0.3857 - accuracy: 0.8233 - val_loss: 0.3527 - val_accuracy: 0.8413 - 563ms/epoch - 3ms/step\n",
            "Epoch 160/200\n",
            "225/225 - 1s - loss: 0.3877 - accuracy: 0.8251 - val_loss: 0.3516 - val_accuracy: 0.8438 - 579ms/epoch - 3ms/step\n",
            "Epoch 161/200\n",
            "225/225 - 1s - loss: 0.3884 - accuracy: 0.8221 - val_loss: 0.3503 - val_accuracy: 0.8438 - 604ms/epoch - 3ms/step\n",
            "Epoch 162/200\n",
            "225/225 - 1s - loss: 0.3868 - accuracy: 0.8201 - val_loss: 0.3507 - val_accuracy: 0.8413 - 578ms/epoch - 3ms/step\n",
            "Epoch 163/200\n",
            "225/225 - 1s - loss: 0.3893 - accuracy: 0.8201 - val_loss: 0.3519 - val_accuracy: 0.8413 - 565ms/epoch - 3ms/step\n",
            "Epoch 164/200\n",
            "225/225 - 1s - loss: 0.3907 - accuracy: 0.8194 - val_loss: 0.3503 - val_accuracy: 0.8425 - 556ms/epoch - 2ms/step\n",
            "Epoch 165/200\n",
            "225/225 - 1s - loss: 0.3868 - accuracy: 0.8215 - val_loss: 0.3526 - val_accuracy: 0.8413 - 557ms/epoch - 2ms/step\n",
            "Epoch 166/200\n",
            "225/225 - 1s - loss: 0.3876 - accuracy: 0.8207 - val_loss: 0.3516 - val_accuracy: 0.8400 - 590ms/epoch - 3ms/step\n",
            "Epoch 167/200\n",
            "225/225 - 1s - loss: 0.3862 - accuracy: 0.8239 - val_loss: 0.3523 - val_accuracy: 0.8413 - 573ms/epoch - 3ms/step\n",
            "Epoch 168/200\n",
            "225/225 - 1s - loss: 0.3871 - accuracy: 0.8239 - val_loss: 0.3491 - val_accuracy: 0.8425 - 574ms/epoch - 3ms/step\n",
            "Epoch 169/200\n",
            "225/225 - 1s - loss: 0.3876 - accuracy: 0.8214 - val_loss: 0.3508 - val_accuracy: 0.8400 - 563ms/epoch - 3ms/step\n",
            "Epoch 170/200\n",
            "225/225 - 1s - loss: 0.3849 - accuracy: 0.8217 - val_loss: 0.3514 - val_accuracy: 0.8413 - 581ms/epoch - 3ms/step\n",
            "Epoch 171/200\n",
            "225/225 - 1s - loss: 0.3866 - accuracy: 0.8219 - val_loss: 0.3538 - val_accuracy: 0.8413 - 597ms/epoch - 3ms/step\n",
            "Epoch 172/200\n",
            "225/225 - 1s - loss: 0.3840 - accuracy: 0.8231 - val_loss: 0.3509 - val_accuracy: 0.8438 - 573ms/epoch - 3ms/step\n",
            "Epoch 173/200\n",
            "225/225 - 1s - loss: 0.3862 - accuracy: 0.8203 - val_loss: 0.3517 - val_accuracy: 0.8425 - 579ms/epoch - 3ms/step\n",
            "Epoch 174/200\n",
            "225/225 - 1s - loss: 0.3844 - accuracy: 0.8236 - val_loss: 0.3510 - val_accuracy: 0.8438 - 575ms/epoch - 3ms/step\n",
            "Epoch 175/200\n",
            "225/225 - 1s - loss: 0.3871 - accuracy: 0.8192 - val_loss: 0.3510 - val_accuracy: 0.8400 - 576ms/epoch - 3ms/step\n",
            "Epoch 176/200\n",
            "225/225 - 1s - loss: 0.3855 - accuracy: 0.8219 - val_loss: 0.3515 - val_accuracy: 0.8400 - 578ms/epoch - 3ms/step\n",
            "Epoch 177/200\n",
            "225/225 - 1s - loss: 0.3853 - accuracy: 0.8229 - val_loss: 0.3533 - val_accuracy: 0.8413 - 569ms/epoch - 3ms/step\n",
            "Epoch 178/200\n",
            "225/225 - 1s - loss: 0.3826 - accuracy: 0.8254 - val_loss: 0.3516 - val_accuracy: 0.8438 - 599ms/epoch - 3ms/step\n",
            "Epoch 179/200\n",
            "225/225 - 1s - loss: 0.3838 - accuracy: 0.8218 - val_loss: 0.3488 - val_accuracy: 0.8413 - 623ms/epoch - 3ms/step\n",
            "Epoch 180/200\n",
            "225/225 - 1s - loss: 0.3856 - accuracy: 0.8214 - val_loss: 0.3497 - val_accuracy: 0.8413 - 608ms/epoch - 3ms/step\n",
            "Epoch 181/200\n",
            "225/225 - 1s - loss: 0.3849 - accuracy: 0.8224 - val_loss: 0.3498 - val_accuracy: 0.8413 - 598ms/epoch - 3ms/step\n",
            "Epoch 182/200\n",
            "225/225 - 1s - loss: 0.3840 - accuracy: 0.8240 - val_loss: 0.3501 - val_accuracy: 0.8425 - 576ms/epoch - 3ms/step\n",
            "Epoch 183/200\n",
            "225/225 - 1s - loss: 0.3840 - accuracy: 0.8215 - val_loss: 0.3494 - val_accuracy: 0.8425 - 568ms/epoch - 3ms/step\n",
            "Epoch 184/200\n",
            "225/225 - 1s - loss: 0.3881 - accuracy: 0.8218 - val_loss: 0.3516 - val_accuracy: 0.8425 - 583ms/epoch - 3ms/step\n",
            "Epoch 185/200\n",
            "225/225 - 1s - loss: 0.3843 - accuracy: 0.8218 - val_loss: 0.3520 - val_accuracy: 0.8425 - 577ms/epoch - 3ms/step\n",
            "Epoch 186/200\n",
            "225/225 - 1s - loss: 0.3864 - accuracy: 0.8211 - val_loss: 0.3503 - val_accuracy: 0.8425 - 604ms/epoch - 3ms/step\n",
            "Epoch 187/200\n",
            "225/225 - 1s - loss: 0.3836 - accuracy: 0.8217 - val_loss: 0.3506 - val_accuracy: 0.8438 - 572ms/epoch - 3ms/step\n",
            "Epoch 188/200\n",
            "225/225 - 1s - loss: 0.3844 - accuracy: 0.8231 - val_loss: 0.3511 - val_accuracy: 0.8462 - 594ms/epoch - 3ms/step\n",
            "Epoch 189/200\n",
            "225/225 - 1s - loss: 0.3863 - accuracy: 0.8228 - val_loss: 0.3494 - val_accuracy: 0.8450 - 556ms/epoch - 2ms/step\n",
            "Epoch 190/200\n",
            "225/225 - 1s - loss: 0.3829 - accuracy: 0.8239 - val_loss: 0.3503 - val_accuracy: 0.8425 - 644ms/epoch - 3ms/step\n",
            "Epoch 191/200\n",
            "225/225 - 1s - loss: 0.3844 - accuracy: 0.8238 - val_loss: 0.3502 - val_accuracy: 0.8438 - 680ms/epoch - 3ms/step\n",
            "Epoch 192/200\n",
            "225/225 - 1s - loss: 0.3835 - accuracy: 0.8251 - val_loss: 0.3498 - val_accuracy: 0.8438 - 623ms/epoch - 3ms/step\n",
            "Epoch 193/200\n",
            "225/225 - 1s - loss: 0.3859 - accuracy: 0.8250 - val_loss: 0.3503 - val_accuracy: 0.8450 - 671ms/epoch - 3ms/step\n",
            "Epoch 194/200\n",
            "225/225 - 1s - loss: 0.3897 - accuracy: 0.8204 - val_loss: 0.3516 - val_accuracy: 0.8425 - 689ms/epoch - 3ms/step\n",
            "Epoch 195/200\n"
          ]
        },
        {
          "name": "stdout",
          "output_type": "stream",
          "text": [
            "225/225 - 1s - loss: 0.3864 - accuracy: 0.8211 - val_loss: 0.3535 - val_accuracy: 0.8438 - 570ms/epoch - 3ms/step\n",
            "Epoch 196/200\n",
            "225/225 - 1s - loss: 0.3844 - accuracy: 0.8218 - val_loss: 0.3502 - val_accuracy: 0.8413 - 557ms/epoch - 2ms/step\n",
            "Epoch 197/200\n",
            "225/225 - 1s - loss: 0.3860 - accuracy: 0.8218 - val_loss: 0.3509 - val_accuracy: 0.8425 - 677ms/epoch - 3ms/step\n",
            "Epoch 198/200\n",
            "225/225 - 1s - loss: 0.3884 - accuracy: 0.8211 - val_loss: 0.3514 - val_accuracy: 0.8413 - 674ms/epoch - 3ms/step\n",
            "Epoch 199/200\n",
            "225/225 - 1s - loss: 0.3829 - accuracy: 0.8242 - val_loss: 0.3499 - val_accuracy: 0.8425 - 604ms/epoch - 3ms/step\n",
            "Epoch 200/200\n",
            "225/225 - 1s - loss: 0.3871 - accuracy: 0.8217 - val_loss: 0.3504 - val_accuracy: 0.8438 - 569ms/epoch - 3ms/step\n"
          ]
        }
      ],
      "source": [
        "nn.compile(optimizer=\"Adam\",loss=\"binary_crossentropy\",metrics=[\"accuracy\"])\n",
        "history=nn.fit(x_train,y_train,batch_size=32,epochs=200,validation_split=0.1,verbose=2)"
      ]
    },
    {
      "cell_type": "code",
      "execution_count": null,
      "id": "26b75f50",
      "metadata": {
        "id": "26b75f50",
        "outputId": "456381fc-1d6f-45b4-8618-36243a45b243"
      },
      "outputs": [
        {
          "name": "stdout",
          "output_type": "stream",
          "text": [
            "63/63 [==============================] - 0s 2ms/step\n"
          ]
        }
      ],
      "source": [
        "nn_pred=nn.predict(x_test)"
      ]
    },
    {
      "cell_type": "code",
      "execution_count": null,
      "id": "ea52bac9",
      "metadata": {
        "id": "ea52bac9",
        "outputId": "78b28a90-c322-4be0-e8dc-73a8b1f691bf"
      },
      "outputs": [
        {
          "data": {
            "text/plain": [
              "array([[0],\n",
              "       [0],\n",
              "       [0],\n",
              "       ...,\n",
              "       [0],\n",
              "       [0],\n",
              "       [0]])"
            ]
          },
          "execution_count": 52,
          "metadata": {},
          "output_type": "execute_result"
        }
      ],
      "source": [
        "nn_pred=(nn_pred>0.5).astype(int)\n",
        "nn_pred"
      ]
    },
    {
      "cell_type": "code",
      "execution_count": null,
      "id": "39827666",
      "metadata": {
        "id": "39827666",
        "outputId": "e11cb751-e9e2-4a85-9de8-af364fab722c"
      },
      "outputs": [
        {
          "data": {
            "image/png": "[encoded data removed]",
            "text/plain": [
              "<Figure size 640x480 with 2 Axes>"
            ]
          },
          "metadata": {},
          "output_type": "display_data"
        }
      ],
      "source": [
        "from sklearn.metrics import confusion_matrix, ConfusionMatrixDisplay\n",
        "cm=confusion_matrix(nn_pred,y_test)\n",
        "disp=ConfusionMatrixDisplay(cm)\n",
        "disp.plot()\n",
        "plt.show()"
      ]
    },
    {
      "cell_type": "code",
      "execution_count": null,
      "id": "7dbcc47f",
      "metadata": {
        "id": "7dbcc47f",
        "outputId": "947973a5-8cd3-4430-e163-6dbe861db0a4"
      },
      "outputs": [
        {
          "data": {
            "text/plain": [
              "array([[1555,  279],\n",
              "       [  40,  126]], dtype=int64)"
            ]
          },
          "execution_count": 57,
          "metadata": {},
          "output_type": "execute_result"
        }
      ],
      "source": [
        "cm"
      ]
    },
    {
      "cell_type": "code",
      "execution_count": null,
      "id": "cae404b5",
      "metadata": {
        "id": "cae404b5",
        "outputId": "be6d1bfb-b345-4c18-f47b-e183d0c47797"
      },
      "outputs": [
        {
          "data": {
            "text/plain": [
              "0.8405"
            ]
          },
          "execution_count": 55,
          "metadata": {},
          "output_type": "execute_result"
        }
      ],
      "source": [
        "accuracy=(cm[0][0]+cm[1][1])/len(y_test)\n",
        "accuracy"
      ]
    },
    {
      "cell_type": "code",
      "execution_count": null,
      "id": "e3ceb192",
      "metadata": {
        "id": "e3ceb192"
      },
      "outputs": [],
      "source": []
    }
  ],
  "metadata": {
    "kernelspec": {
      "display_name": "Python 3 (ipykernel)",
      "language": "python",
      "name": "python3"
    },
    "language_info": {
      "codemirror_mode": {
        "name": "ipython",
        "version": 3
      },
      "file_extension": ".py",
      "mimetype": "text/x-python",
      "name": "python",
      "nbconvert_exporter": "python",
      "pygments_lexer": "ipython3",
      "version": "3.9.6"
    },
    "colab": {
      "provenance": [],
      "include_colab_link": true
    }
  },
  "nbformat": 4,
  "nbformat_minor": 5
}